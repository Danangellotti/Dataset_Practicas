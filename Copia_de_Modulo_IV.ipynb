{
  "nbformat": 4,
  "nbformat_minor": 0,
  "metadata": {
    "colab": {
      "provenance": [],
      "include_colab_link": true
    },
    "kernelspec": {
      "name": "python3",
      "display_name": "Python 3"
    },
    "language_info": {
      "name": "python"
    }
  },
  "cells": [
    {
      "cell_type": "markdown",
      "metadata": {
        "id": "view-in-github",
        "colab_type": "text"
      },
      "source": [
        "<a href=\"https://colab.research.google.com/github/Danangellotti/Dataset_Practicas/blob/main/Copia_de_Modulo_IV.ipynb\" target=\"_parent\"><img src=\"https://colab.research.google.com/assets/colab-badge.svg\" alt=\"Open In Colab\"/></a>"
      ]
    },
    {
      "cell_type": "markdown",
      "source": [
        "# FUNCIONES\n",
        "\n",
        "\n",
        "\n",
        "1.   Definición\n",
        "2.   Argumentos\n",
        "3.   Posicionales, palabras claves\n",
        "\n"
      ],
      "metadata": {
        "id": "tBGEiYkoF8VX"
      }
    },
    {
      "cell_type": "markdown",
      "source": [
        "## 1. DEFINICIONES\n",
        "\n",
        "Una función es un bloque de código que realiza una tarea específica y devuelve un resultado"
      ],
      "metadata": {
        "id": "dW9eFRs8XKTR"
      }
    },
    {
      "cell_type": "markdown",
      "source": [
        "## 1.1 CREAR UNA FUNCION"
      ],
      "metadata": {
        "id": "qzlHaWqC_232"
      }
    },
    {
      "cell_type": "code",
      "source": [
        "# definicion de funcion\n",
        "def saludoInicial():\n",
        "  print('Bienvenidos a la nave')\n"
      ],
      "metadata": {
        "id": "cEBzox7NBiGN"
      },
      "execution_count": null,
      "outputs": []
    },
    {
      "cell_type": "markdown",
      "source": [
        "1.2 LEER UNA FUNCION"
      ],
      "metadata": {
        "id": "8WZlTqDq_81y"
      }
    },
    {
      "cell_type": "code",
      "source": [
        "saludoInicial()"
      ],
      "metadata": {
        "colab": {
          "base_uri": "https://localhost:8080/"
        },
        "id": "rFck_h_VClKv",
        "outputId": "dbe1a0c9-fec5-4a50-b27c-3229ea8b11b0"
      },
      "execution_count": null,
      "outputs": [
        {
          "output_type": "stream",
          "name": "stdout",
          "text": [
            "Bienvenidos a la nave\n"
          ]
        }
      ]
    },
    {
      "cell_type": "markdown",
      "source": [
        "## 2 ARGUMENTOS\n"
      ],
      "metadata": {
        "id": "SkNVavQnyruD"
      }
    },
    {
      "cell_type": "markdown",
      "source": [
        "### 2.1 ARGUMENTOS POSICIONALES"
      ],
      "metadata": {
        "id": "sUaytcDlyzoB"
      }
    },
    {
      "cell_type": "code",
      "source": [
        "astronauta = 'Carl Sagan'"
      ],
      "metadata": {
        "id": "OE8uDFigzhXI"
      },
      "execution_count": null,
      "outputs": []
    },
    {
      "cell_type": "code",
      "source": [
        "# definir funcion saludo particular\n",
        "def saludoParticular(nombre_astronauta):\n",
        "  print('bienvenido ' + nombre_astronauta)\n",
        "  print('welcome {}'.format(nombre_astronauta))\n"
      ],
      "metadata": {
        "id": "_OLJkWg7zkAP"
      },
      "execution_count": null,
      "outputs": []
    },
    {
      "cell_type": "code",
      "source": [
        "saludoParticular(astronauta)"
      ],
      "metadata": {
        "colab": {
          "base_uri": "https://localhost:8080/"
        },
        "id": "1szGa2Ayz-0t",
        "outputId": "ec17a08b-1865-434f-ca29-a9c988cfd080"
      },
      "execution_count": null,
      "outputs": [
        {
          "output_type": "stream",
          "name": "stdout",
          "text": [
            "bienvenido Carl Sagan\n",
            "welcome Carl Sagan\n"
          ]
        }
      ]
    },
    {
      "cell_type": "code",
      "source": [
        "rango = 'capitan'"
      ],
      "metadata": {
        "id": "DXh9SJNf0U2f"
      },
      "execution_count": null,
      "outputs": []
    },
    {
      "cell_type": "code",
      "source": [
        "def saludoParticular(nombre_astronauta, rango_astronauta):\n",
        "  print('bienvenido ' + rango_astronauta + ' ' + nombre_astronauta)\n",
        "  print('welcome {} {}'.format(rango_astronauta, nombre_astronauta))"
      ],
      "metadata": {
        "id": "w_7-AgWJ0WnN"
      },
      "execution_count": null,
      "outputs": []
    },
    {
      "cell_type": "code",
      "source": [],
      "metadata": {
        "id": "-6iZDWSyr8JY"
      },
      "execution_count": null,
      "outputs": []
    },
    {
      "cell_type": "code",
      "source": [
        "saludoParticular(rango, astronauta)"
      ],
      "metadata": {
        "colab": {
          "base_uri": "https://localhost:8080/"
        },
        "id": "4hYwrcpl0iH_",
        "outputId": "e9bb3058-6c52-4c22-f138-66137ce350e7"
      },
      "execution_count": null,
      "outputs": [
        {
          "output_type": "stream",
          "name": "stdout",
          "text": [
            "bienvenido Carl Sagan capitan\n",
            "welcome Carl Sagan capitan\n"
          ]
        }
      ]
    },
    {
      "cell_type": "markdown",
      "source": [
        "### 2.2 ARGUMENTOS CON PALABRA CLAVE"
      ],
      "metadata": {
        "id": "bafRzdgO05tT"
      }
    },
    {
      "cell_type": "code",
      "source": [
        "def trajeEspacial(talle, color='blanco'):\n",
        "  print('el traje es de color {} y el talle es {}'.format(color,talle))"
      ],
      "metadata": {
        "id": "tp9qxtF808SN"
      },
      "execution_count": null,
      "outputs": []
    },
    {
      "cell_type": "code",
      "source": [
        "talle = '14'\n",
        "trajeEspacial(talle)\n",
        "trajeEspacial(color = 'azul', talle)"
      ],
      "metadata": {
        "colab": {
          "base_uri": "https://localhost:8080/",
          "height": 131
        },
        "id": "_eHKORyy1XJv",
        "outputId": "15a641df-b82a-4791-dc3f-ba8a40f2bef7"
      },
      "execution_count": null,
      "outputs": [
        {
          "output_type": "error",
          "ename": "SyntaxError",
          "evalue": "ignored",
          "traceback": [
            "\u001b[0;36m  File \u001b[0;32m\"<ipython-input-16-0fe7d8afd39b>\"\u001b[0;36m, line \u001b[0;32m3\u001b[0m\n\u001b[0;31m    trajeEspacial(color = 'azul', talle)\u001b[0m\n\u001b[0m                                  ^\u001b[0m\n\u001b[0;31mSyntaxError\u001b[0m\u001b[0;31m:\u001b[0m positional argument follows keyword argument\n"
          ]
        }
      ]
    },
    {
      "cell_type": "markdown",
      "source": [
        "2.3 RETURN"
      ],
      "metadata": {
        "id": "vrPVYdpN17qR"
      }
    },
    {
      "cell_type": "code",
      "source": [
        "# definicion de funcion\n",
        "def saludoInicial():\n",
        "  return 'Bienvenidos a la nave'"
      ],
      "metadata": {
        "id": "e8cXFC0g2cZd"
      },
      "execution_count": null,
      "outputs": []
    },
    {
      "cell_type": "code",
      "source": [
        "saludoInicial()\n",
        "funcion = saludoInicial()"
      ],
      "metadata": {
        "id": "Xngf65aa2Fd-"
      },
      "execution_count": null,
      "outputs": []
    },
    {
      "cell_type": "code",
      "source": [
        "print(funcion)"
      ],
      "metadata": {
        "colab": {
          "base_uri": "https://localhost:8080/"
        },
        "id": "VmksUt5J2VoO",
        "outputId": "0ce02fac-44b7-4ce0-e7ef-5b8d0f226335"
      },
      "execution_count": null,
      "outputs": [
        {
          "output_type": "stream",
          "name": "stdout",
          "text": [
            "Bienvenidos a la nave\n"
          ]
        }
      ]
    },
    {
      "cell_type": "code",
      "source": [
        "# millas recorridas\n",
        "def millasRecorridas(velocidad, tiempo):\n",
        "  \"\"\" calculo de la distancia recorrida por la nava espacial\n",
        "  arg:\n",
        "    velocidad: velocidad de la nave en millas por minuto\n",
        "    tiempo: tiempo total del viaje\n",
        "  return:\n",
        "    total_millas : millas totales recorridas por la nave\n",
        "\n",
        "  \"\"\"\n",
        "  total_millas = velocidad * tiempo\n",
        "  return total_millas"
      ],
      "metadata": {
        "id": "PqkNHpJx2yXK"
      },
      "execution_count": null,
      "outputs": []
    },
    {
      "cell_type": "code",
      "source": [
        "velocidad = 123\n",
        "tiempo = 1000\n",
        "millastotales = millasRecorridas(velocidad, tiempo)\n",
        "print(millastotales, millastotales + 1200)"
      ],
      "metadata": {
        "colab": {
          "base_uri": "https://localhost:8080/"
        },
        "id": "XCJqThul3Wbt",
        "outputId": "915e3215-6dd7-40e6-f997-7ac36c8d0eef"
      },
      "execution_count": null,
      "outputs": [
        {
          "output_type": "stream",
          "name": "stdout",
          "text": [
            "123000 124200\n"
          ]
        }
      ]
    }
  ]
}