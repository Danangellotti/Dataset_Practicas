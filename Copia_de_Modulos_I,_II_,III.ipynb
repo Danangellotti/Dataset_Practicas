{
  "nbformat": 4,
  "nbformat_minor": 0,
  "metadata": {
    "colab": {
      "provenance": [],
      "include_colab_link": true
    },
    "kernelspec": {
      "name": "python3",
      "display_name": "Python 3"
    },
    "language_info": {
      "name": "python"
    },
    "gpuClass": "standard"
  },
  "cells": [
    {
      "cell_type": "markdown",
      "metadata": {
        "id": "view-in-github",
        "colab_type": "text"
      },
      "source": [
        "<a href=\"https://colab.research.google.com/github/Danangellotti/Dataset_Practicas/blob/main/Copia_de_Modulos_I%2C_II_%2CIII.ipynb\" target=\"_parent\"><img src=\"https://colab.research.google.com/assets/colab-badge.svg\" alt=\"Open In Colab\"/></a>"
      ]
    },
    {
      "cell_type": "markdown",
      "source": [
        "# VARIABLES, LISTAS y DICCIONARIOS"
      ],
      "metadata": {
        "id": "0ZrWDaihdA9U"
      }
    },
    {
      "cell_type": "markdown",
      "source": [
        "\n",
        "\n",
        "1.   Variables\n",
        "2.   Tipos de datos\n",
        "3.   Listas\n",
        "4.   Diccionarios\n",
        "\n"
      ],
      "metadata": {
        "id": "iMr2ngLydogk"
      }
    },
    {
      "cell_type": "markdown",
      "source": [
        "C\n",
        "\n",
        "R\n",
        "\n",
        "U\n",
        "\n",
        "D\n",
        "\n",
        "\n",
        "---\n",
        "C reate  | Crear\n",
        "\n",
        "R ead    | Leer\n",
        "\n",
        "U pdate  | Modificar\n",
        "\n",
        "D elete  | Eliminar\n"
      ],
      "metadata": {
        "id": "C0VBaVp1eTwJ"
      }
    },
    {
      "cell_type": "markdown",
      "source": [
        "# 1. VARIABLES\n"
      ],
      "metadata": {
        "id": "sT3vh-dAf6q_"
      }
    },
    {
      "cell_type": "code",
      "source": [
        "nombre_planeta = 1007.124"
      ],
      "metadata": {
        "id": "jUsJ-IoxiUA5"
      },
      "execution_count": null,
      "outputs": []
    },
    {
      "cell_type": "code",
      "source": [
        "nombre_planeta\n",
        "print(nombre_planeta)\n",
        "type(nombre_planeta)"
      ],
      "metadata": {
        "id": "wnOa_zcoih0Z"
      },
      "execution_count": null,
      "outputs": []
    },
    {
      "cell_type": "markdown",
      "source": [
        "# 2.TIPOS DE DATOS"
      ],
      "metadata": {
        "id": "PyG3FsmkmzI6"
      }
    },
    {
      "cell_type": "markdown",
      "source": [
        "## 2.1 CADENAS O STRINGS"
      ],
      "metadata": {
        "id": "e6xyl9mxnCQA"
      }
    },
    {
      "cell_type": "code",
      "source": [
        "# Declaracion de variables tipo Strings o Cadenas\n",
        "\n",
        "variable_string = 'saturno'\n",
        "print(variable_string)\n",
        "type(variable_string)"
      ],
      "metadata": {
        "id": "0UZejDW8nSLW"
      },
      "execution_count": null,
      "outputs": []
    },
    {
      "cell_type": "markdown",
      "source": [
        "## 2.2 ENTEROS"
      ],
      "metadata": {
        "id": "kCWeds_6oRcb"
      }
    },
    {
      "cell_type": "code",
      "source": [
        "# Declaracion de variables enteras\n",
        "variable_entera = -112\n",
        "print(variable_entera)\n",
        "type(variable_entera)"
      ],
      "metadata": {
        "id": "VsBHDj23oT6R"
      },
      "execution_count": null,
      "outputs": []
    },
    {
      "cell_type": "code",
      "source": [
        "variable_entera = variable_entera + 10\n"
      ],
      "metadata": {
        "id": "68gVUP_6oiRW"
      },
      "execution_count": null,
      "outputs": []
    },
    {
      "cell_type": "code",
      "source": [
        "print(variable_entera)"
      ],
      "metadata": {
        "id": "3Bokwk1MoplH"
      },
      "execution_count": null,
      "outputs": []
    },
    {
      "cell_type": "markdown",
      "source": [
        "## 2.3 Floats O FLOTANTES"
      ],
      "metadata": {
        "id": "cXdfOkXWoyVB"
      }
    },
    {
      "cell_type": "code",
      "source": [
        "# Declaracion de varibles tipo Flotates\n",
        "variable_flotante = 112.123\n",
        "print(variable_flotante)\n",
        "type(variable_flotante)"
      ],
      "metadata": {
        "id": "eWlOLlymo1RX"
      },
      "execution_count": null,
      "outputs": []
    },
    {
      "cell_type": "markdown",
      "source": [
        "## 2.4 BOOLEANO"
      ],
      "metadata": {
        "id": "zYNTB_v_pPTB"
      }
    },
    {
      "cell_type": "code",
      "source": [
        "# Declaracion de variable tipo Booleano\n",
        "variable_booleana = 'True'\n",
        "variable_booleana_2 = False\n",
        "print(variable_booleana)\n",
        "type(variable_booleana)\n"
      ],
      "metadata": {
        "id": "ugnEY5y9pQ_3"
      },
      "execution_count": null,
      "outputs": []
    },
    {
      "cell_type": "markdown",
      "source": [
        "## 2.5 CASTING o CONVERSIÓN DE DATOS"
      ],
      "metadata": {
        "id": "mMJXlDfgARBs"
      }
    },
    {
      "cell_type": "code",
      "source": [
        "variable_entera = 0\n",
        "print(variable_entera)\n",
        "print(type(variable_entera))\n",
        "variable_entera = bool(variable_entera)\n",
        "print(variable_entera)\n",
        "print(type(variable_entera))"
      ],
      "metadata": {
        "id": "N3UNzDx2AT0S"
      },
      "execution_count": null,
      "outputs": []
    },
    {
      "cell_type": "code",
      "source": [
        "int() # para convertir a enteros\n",
        "float() # para converir a flotantes\n",
        "str() # para convertir a strings o cadenas\n",
        "bool() # para convertir a booleanos"
      ],
      "metadata": {
        "id": "rjPLNzbiA0kD"
      },
      "execution_count": null,
      "outputs": []
    },
    {
      "cell_type": "code",
      "source": [
        "prueba = 1854\n",
        "cambio = str(prueba)\n",
        "\n",
        "print(prueba, cambio, type(prueba), type(cambio), sep='\\n')"
      ],
      "metadata": {
        "id": "vUSkv-lfBAUR"
      },
      "execution_count": null,
      "outputs": []
    },
    {
      "cell_type": "code",
      "source": [
        "prueba = prueba + 46\n",
        "cambio = cambio + ' fue el año en el que comenzó'\n",
        "\n",
        "print(prueba, cambio, sep='\\n')"
      ],
      "metadata": {
        "id": "QSfACpLUBj1-"
      },
      "execution_count": null,
      "outputs": []
    },
    {
      "cell_type": "code",
      "source": [
        "prueba = prueba + ' fue el año en el que comenzó'\n",
        "cambio = cambio + 46"
      ],
      "metadata": {
        "id": "FIU_PVX4B3Ke"
      },
      "execution_count": null,
      "outputs": []
    },
    {
      "cell_type": "code",
      "source": [
        "prueba = prueba + 46\n",
        "cambio = cambio + ' fue el año en el que comenzó'\n",
        "\n",
        "print(prueba, cambio, sep='\\n')\n",
        "\n",
        "del cambio\n",
        "print(cambio)"
      ],
      "metadata": {
        "id": "fYicyFCQCNWD"
      },
      "execution_count": null,
      "outputs": []
    },
    {
      "cell_type": "markdown",
      "source": [
        "# 3.0 LISTAS, TUPLAS, SETS, DICCIONARIOS"
      ],
      "metadata": {
        "id": "2O-AWZsbhnEG"
      }
    },
    {
      "cell_type": "markdown",
      "source": [
        "## 3.1 LISTAS"
      ],
      "metadata": {
        "id": "CFdHWe7_hsXs"
      }
    },
    {
      "cell_type": "code",
      "source": [
        "# definicion de variables tipo lista\n",
        "variable_lista = [1, 2, 3, 4, 22.2324, 'pluton', False, ['a', 'e'], 2]\n",
        "print(variable_lista)\n",
        "type(variable_lista)"
      ],
      "metadata": {
        "id": "vbXx0UJ-huEf"
      },
      "execution_count": null,
      "outputs": []
    },
    {
      "cell_type": "markdown",
      "source": [
        "## 3.2 TUPLAS"
      ],
      "metadata": {
        "id": "wlIc8tsOikoZ"
      }
    },
    {
      "cell_type": "code",
      "source": [
        "# INMUTABILIDAD\n",
        "# listas son mutables\n",
        "# tuplas no son mutables\n"
      ],
      "metadata": {
        "id": "Qa6MiQQ7imDs"
      },
      "execution_count": null,
      "outputs": []
    },
    {
      "cell_type": "code",
      "source": [
        "# definicion de variables tipo tupla\n",
        "variable_tupla = (1, 2, 3, 4, 22.2324, 'pluton', False, ['a', 'e'], 2)\n",
        "print(variable_tupla)\n",
        "type(variable_tupla)"
      ],
      "metadata": {
        "id": "qalNYbSoi5mu"
      },
      "execution_count": null,
      "outputs": []
    },
    {
      "cell_type": "code",
      "source": [
        "variable_lista[1] = 'hola'\n",
        "print(variable_lista[1])"
      ],
      "metadata": {
        "id": "s2kKUM6Ijc41"
      },
      "execution_count": null,
      "outputs": []
    },
    {
      "cell_type": "code",
      "source": [
        "variable_tupla[1] = 'hola'"
      ],
      "metadata": {
        "id": "_LIunY7Xj4Sw"
      },
      "execution_count": null,
      "outputs": []
    },
    {
      "cell_type": "code",
      "source": [
        "variable_lista[-1]"
      ],
      "metadata": {
        "id": "k7vFzZZjkDc_"
      },
      "execution_count": null,
      "outputs": []
    },
    {
      "cell_type": "code",
      "source": [
        "print(variable_lista)\n",
        "variable_lista[::-1]"
      ],
      "metadata": {
        "id": "6vBb0zBqkb1v"
      },
      "execution_count": null,
      "outputs": []
    },
    {
      "cell_type": "markdown",
      "source": [
        "## 3.3 SETS"
      ],
      "metadata": {
        "id": "4Prio8lcM7ls"
      }
    },
    {
      "cell_type": "code",
      "source": [
        "# definicion variables sets\n",
        "variable_set = {1, 1, 2, 2, 3, 4,  4}\n",
        "print(variable_set)\n",
        "type(variable_set)\n",
        "# variable_set[1] = 'hola'"
      ],
      "metadata": {
        "id": "I3MZBqKCM8zB"
      },
      "execution_count": null,
      "outputs": []
    },
    {
      "cell_type": "code",
      "source": [
        "listaa = [1,2,3,2,4,3,3,3,3,5,6,4,4,5,4]\n",
        "# print(listaa)\n",
        "# listaa = set(listaa)\n",
        "# print(listaa)\n",
        "# listaa = list(listaa)\n",
        "# print(listaa)\n",
        "list(set(listaa))"
      ],
      "metadata": {
        "id": "Q9rhZFlWNdBR"
      },
      "execution_count": null,
      "outputs": []
    },
    {
      "cell_type": "markdown",
      "source": [
        "## 3.4 DICCIONARIOS"
      ],
      "metadata": {
        "id": "73xTDXjnN4v2"
      }
    },
    {
      "cell_type": "code",
      "source": [
        "# definicion de variables DICCIONARIOS\n",
        "variable_diccionario = {'key':'value'}\n",
        "print(variable_diccionario)\n",
        "type(variable_diccionario)"
      ],
      "metadata": {
        "id": "N-5fcP-iN6j_"
      },
      "execution_count": null,
      "outputs": []
    },
    {
      "cell_type": "code",
      "source": [
        "planeta1 = {\n",
        "    'nombre' : 'jupiter',\n",
        "    'color' : 'naranja',\n",
        "    'cantidad de lunas' : 79,\n",
        "    'masa en toneladas' : 1234,\n",
        "    (1,2) : [[1,2]]\n",
        "}\n",
        "\n",
        "planeta1"
      ],
      "metadata": {
        "id": "fiZe2HI0OOWh"
      },
      "execution_count": null,
      "outputs": []
    },
    {
      "cell_type": "code",
      "source": [
        "planeta1['color']"
      ],
      "metadata": {
        "id": "X0Cm0WSwO6Bx"
      },
      "execution_count": null,
      "outputs": []
    },
    {
      "cell_type": "code",
      "source": [
        "# RESUMEN\n",
        "listas = [] # mutables, pueden tener valores repetidos\n",
        "tuplas = () # inmutables, pueden tener valores repetidos\n",
        "sets = {} # inmutables, y NO pueden tener valores repetidos\n",
        "diccioarions = {'key':'value'} # par de datos, llave-valor asociados"
      ],
      "metadata": {
        "id": "ffcvB1T8PEbP"
      },
      "execution_count": null,
      "outputs": []
    },
    {
      "cell_type": "markdown",
      "source": [
        "# 4.0 MANEJO LISTAS DICCIONARIOS"
      ],
      "metadata": {
        "id": "2lImp92Hbq4V"
      }
    },
    {
      "cell_type": "markdown",
      "source": [
        "## 4.1 LISTAS"
      ],
      "metadata": {
        "id": "zFkryIdWbtcq"
      }
    },
    {
      "cell_type": "markdown",
      "source": [
        "### 4.1.1 AGREGAR"
      ],
      "metadata": {
        "id": "tl84Q6gsb6dr"
      }
    },
    {
      "cell_type": "code",
      "source": [
        "planetas = ['venus', 'mercurio', 'tierra', 'marte']\n",
        "print(len(planetas))"
      ],
      "metadata": {
        "id": "BhlGOPzoaSXD"
      },
      "execution_count": null,
      "outputs": []
    },
    {
      "cell_type": "code",
      "source": [
        "# Metodo APPEND, agrega elemento al final de la lista\n",
        "planetas.append('jupiter')\n",
        "planetas"
      ],
      "metadata": {
        "id": "ovGLwlnbybt6"
      },
      "execution_count": null,
      "outputs": []
    },
    {
      "cell_type": "code",
      "source": [
        "# Metodo INSERT, agregar elemento en el lugar deseado\n",
        "planetas.insert(1,'X')\n",
        "planetas"
      ],
      "metadata": {
        "id": "NAPfID4Kyqq4"
      },
      "execution_count": null,
      "outputs": []
    },
    {
      "cell_type": "code",
      "source": [
        "# Metodo EXTEND\n",
        "planetas_2 = ['saturno', 'urano']\n",
        "planetas.extend(planetas_2)\n",
        "planetas"
      ],
      "metadata": {
        "id": "ZUf0LJmTzGzb"
      },
      "execution_count": null,
      "outputs": []
    },
    {
      "cell_type": "code",
      "source": [
        "# AGREGAR elementos a una lista\n",
        "\n",
        ".append(elemento) # Agrega el elemento al final de la lista\n",
        ".insert(indice de la lista, elemento) # Agrega elemento en un lugar especifico de la lista\n",
        ".extend(elemento) # Agrega todos los elementos de la lista de forma independiente al final de la lista"
      ],
      "metadata": {
        "id": "i0wIhE-Zzl09"
      },
      "execution_count": null,
      "outputs": []
    },
    {
      "cell_type": "markdown",
      "source": [
        "### 4.1.2 ELIMINAR"
      ],
      "metadata": {
        "id": "0UHnijlqcAnX"
      }
    },
    {
      "cell_type": "code",
      "source": [
        "# REMOVE, eliminar el elemento deseado\n",
        "planetas.remove('X')\n",
        "planetas"
      ],
      "metadata": {
        "id": "SszbttvKzlDu"
      },
      "execution_count": null,
      "outputs": []
    },
    {
      "cell_type": "code",
      "source": [
        "# POP, elimina el ultimo elemento de la lista\n",
        "print(planetas.pop())\n",
        "planetas"
      ],
      "metadata": {
        "id": "F9TN77up0Ow9"
      },
      "execution_count": null,
      "outputs": []
    },
    {
      "cell_type": "code",
      "source": [
        "# REMOVER elementos de una lista\n",
        ".remove # Elimina el elemento deseado de una lista\n",
        ".pop # Eliminar el ultimo elemento de la lista"
      ],
      "metadata": {
        "id": "rAvshvoh0jEf"
      },
      "execution_count": null,
      "outputs": []
    },
    {
      "cell_type": "markdown",
      "source": [
        "### 4.1.3 ORDENAR"
      ],
      "metadata": {
        "id": "Ja-pKwqAcEUV"
      }
    },
    {
      "cell_type": "code",
      "source": [
        "# REVERSE da vuelta los elementos de la lista\n",
        "planetas.reverse()\n",
        "planetas"
      ],
      "metadata": {
        "id": "AOrpMx9a0s8j"
      },
      "execution_count": null,
      "outputs": []
    },
    {
      "cell_type": "code",
      "source": [
        "# SORT ordena alfabeticamente y de menor a mayor en el caso de numeros\n",
        "planetas.sort()\n",
        "planetas"
      ],
      "metadata": {
        "id": "_0TNSZZb07UY"
      },
      "execution_count": null,
      "outputs": []
    },
    {
      "cell_type": "code",
      "source": [
        "planetas_distancia = [342,7654,200,4532]\n",
        "print(planetas_distancia)"
      ],
      "metadata": {
        "id": "4FH83_aD1MCp"
      },
      "execution_count": null,
      "outputs": []
    },
    {
      "cell_type": "code",
      "source": [
        "planetas_distancia.sort()\n",
        "planetas_distancia"
      ],
      "metadata": {
        "id": "2KoSEMMF1WeJ"
      },
      "execution_count": null,
      "outputs": []
    },
    {
      "cell_type": "code",
      "source": [
        "planetas_distancia.sort(reverse=True)\n",
        "planetas.sort(reverse=True)\n",
        "print(planetas_distancia,planetas, sep='\\n')"
      ],
      "metadata": {
        "id": "q6j9p5xy1gWd"
      },
      "execution_count": null,
      "outputs": []
    },
    {
      "cell_type": "code",
      "source": [
        "# funciones MIN MAX SUM\n",
        "print(min(planetas_distancia))\n",
        "print(max(planetas_distancia))\n",
        "print(sum(planetas_distancia))"
      ],
      "metadata": {
        "id": "9FVnZEMK166a"
      },
      "execution_count": null,
      "outputs": []
    },
    {
      "cell_type": "markdown",
      "source": [
        "### 4.1.4 BUSCAR"
      ],
      "metadata": {
        "id": "ETwjPrpFx3bf"
      }
    },
    {
      "cell_type": "code",
      "source": [
        "# INDEX, indice del elemento a buscar\n",
        "print(planetas)\n",
        "print(planetas.index('X'))\n"
      ],
      "metadata": {
        "id": "-SJZCfsb2N04"
      },
      "execution_count": null,
      "outputs": []
    },
    {
      "cell_type": "markdown",
      "source": [
        "## 4.2 DICCIONARIOS"
      ],
      "metadata": {
        "id": "ha1Ny4Kh0PEJ"
      }
    },
    {
      "cell_type": "markdown",
      "source": [
        "### 4.2.1 CREAR\n"
      ],
      "metadata": {
        "id": "ZN6Jzho70Tqy"
      }
    },
    {
      "cell_type": "code",
      "source": [
        "astronauta = {\n",
        "    'nombre' : 'Carl',\n",
        "    'Apellido' : 'Sagan',\n",
        "    'Talle de traje' : 13,\n",
        "}"
      ],
      "metadata": {
        "id": "Mw4ifciwMWa6"
      },
      "execution_count": null,
      "outputs": []
    },
    {
      "cell_type": "markdown",
      "source": [
        "### 4.2.2 LEER\n"
      ],
      "metadata": {
        "id": "H1-Bu2LaFRj9"
      }
    },
    {
      "cell_type": "code",
      "source": [
        "astronauta['Apellido']\n",
        "traje_astronauta1 = astronauta['Talle de traje']\n",
        "traje_astronauta1"
      ],
      "metadata": {
        "id": "pmaxEH3cMlT7"
      },
      "execution_count": null,
      "outputs": []
    },
    {
      "cell_type": "code",
      "source": [
        "astronauta.keys()"
      ],
      "metadata": {
        "id": "LF2n5TpCM9l5"
      },
      "execution_count": null,
      "outputs": []
    },
    {
      "cell_type": "code",
      "source": [
        "astronauta.values()"
      ],
      "metadata": {
        "id": "pKz3CnsvNHcq"
      },
      "execution_count": null,
      "outputs": []
    },
    {
      "cell_type": "code",
      "source": [
        "astronauta.items()"
      ],
      "metadata": {
        "id": "UcoaIpRJNOTN"
      },
      "execution_count": null,
      "outputs": []
    },
    {
      "cell_type": "markdown",
      "source": [
        "### 4.2.3 MODIFICAR"
      ],
      "metadata": {
        "id": "Qb92ezKQ0lVT"
      }
    },
    {
      "cell_type": "code",
      "source": [
        "astronauta['Talle de traje'] = 15"
      ],
      "metadata": {
        "id": "nkth_AefNeB8"
      },
      "execution_count": null,
      "outputs": []
    },
    {
      "cell_type": "code",
      "source": [
        "astronauta"
      ],
      "metadata": {
        "id": "4urvT8nLNi3q"
      },
      "execution_count": null,
      "outputs": []
    },
    {
      "cell_type": "code",
      "source": [
        "astronauta['mision'] = 'Apolo 23'\n",
        "astronauta"
      ],
      "metadata": {
        "id": "mJFhclByNlF6"
      },
      "execution_count": null,
      "outputs": []
    },
    {
      "cell_type": "markdown",
      "source": [
        "### 4.2.4 ELIMINAR\n"
      ],
      "metadata": {
        "id": "VEUTuca3FXwF"
      }
    },
    {
      "cell_type": "code",
      "source": [
        "del astronauta['mision']"
      ],
      "metadata": {
        "id": "dl3tVbuPNvQM"
      },
      "execution_count": null,
      "outputs": []
    },
    {
      "cell_type": "code",
      "source": [
        "astronauta"
      ],
      "metadata": {
        "id": "PffkhVSYN1cJ"
      },
      "execution_count": null,
      "outputs": []
    },
    {
      "cell_type": "markdown",
      "source": [],
      "metadata": {
        "id": "Yx3RyKm70oEK"
      }
    },
    {
      "cell_type": "code",
      "source": [
        "prueba_de_lista = [x for x in range(9) if x%2 == 0]\n",
        "print(prueba_de_lista)\n",
        "lista = [1,2,3,4,5]\n",
        "\n",
        "# for i in range(8):\n",
        "#   (\n",
        "#   if i%2 == 0:\n",
        "#     lista.append(i)\n",
        "#   print)\n",
        "\n",
        "sete =  {1,1,1,1,3,3}\n",
        "\n",
        "print(sete)\n",
        "\n",
        "diccionario = {\n",
        "    'nombre':'matias',\n",
        "    'apellido':1.2\n",
        "}\n",
        "print(diccionario['nombre'])\n",
        "\n",
        "prueba_de_lista[1]"
      ],
      "metadata": {
        "id": "2VpIiilA95u1"
      },
      "execution_count": null,
      "outputs": []
    }
  ]
}